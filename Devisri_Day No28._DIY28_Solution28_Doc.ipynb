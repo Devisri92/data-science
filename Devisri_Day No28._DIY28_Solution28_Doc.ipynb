{
 "cells": [
  {
   "cell_type": "code",
   "execution_count": null,
   "id": "86026cf7",
   "metadata": {},
   "outputs": [],
   "source": [
    "question.1"
   ]
  },
  {
   "cell_type": "code",
   "execution_count": 25,
   "id": "e790211e",
   "metadata": {},
   "outputs": [
    {
     "name": "stdout",
     "output_type": "stream",
     "text": [
      "we are rejecting null hypothesis and accepting alternate hypothesis\n"
     ]
    }
   ],
   "source": [
    "import numpy as np\n",
    "from math import sqrt\n",
    "import scipy.stats as stats\n",
    "import math\n",
    "total_mean = 5\n",
    "sample_mean = 2\n",
    "standard_deviation = 3\n",
    "sample_size = 50\n",
    "sig_interval=1.96\n",
    "error_rate = standard_deviation/sqrt(sample_size)\n",
    "ucv = total_mean  + (sig_interval * error_rate)\n",
    "lcv = total_mean  - (sig_interval * error_rate)\n",
    "if(ucv<sample_mean or sample_mean <lcv):\n",
    "    print('we are rejecting null hypothesis and accepting alternate hypothesis')\n",
    "else:   \n",
    "    print ('accept')"
   ]
  },
  {
   "cell_type": "code",
   "execution_count": null,
   "id": "6773b10d",
   "metadata": {},
   "outputs": [],
   "source": [
    "question.2"
   ]
  },
  {
   "cell_type": "code",
   "execution_count": 26,
   "id": "cc5b0dd9",
   "metadata": {},
   "outputs": [
    {
     "name": "stdout",
     "output_type": "stream",
     "text": [
      "we are rejecting null hypothesis and accepting alternate hypothesis\n"
     ]
    }
   ],
   "source": [
    "import numpy as np\n",
    "from math import sqrt\n",
    "import scipy.stats as stats\n",
    "import math\n",
    "total_mean = 50000\n",
    "sample_mean = 48000\n",
    "standard_deviation = 1500\n",
    "sample_size = 100\n",
    "sig_interval=1.96\n",
    "error_rate = standard_deviation/sqrt(sample_size)\n",
    "ucv = total_mean  + (sig_interval * error_rate)\n",
    "lcv = total_mean  - (sig_interval * error_rate)\n",
    "if(ucv<sample_mean or sample_mean <lcv):\n",
    "    print('we are rejecting null hypothesis and accepting alternate hypothesis')\n",
    "else:   \n",
    "    print ('accept')"
   ]
  },
  {
   "cell_type": "code",
   "execution_count": null,
   "id": "31a417e1",
   "metadata": {},
   "outputs": [],
   "source": []
  }
 ],
 "metadata": {
  "kernelspec": {
   "display_name": "Python 3 (ipykernel)",
   "language": "python",
   "name": "python3"
  },
  "language_info": {
   "codemirror_mode": {
    "name": "ipython",
    "version": 3
   },
   "file_extension": ".py",
   "mimetype": "text/x-python",
   "name": "python",
   "nbconvert_exporter": "python",
   "pygments_lexer": "ipython3",
   "version": "3.9.12"
  }
 },
 "nbformat": 4,
 "nbformat_minor": 5
}
