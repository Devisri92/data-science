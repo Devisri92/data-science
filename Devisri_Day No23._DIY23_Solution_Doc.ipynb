{
 "cells": [
  {
   "cell_type": "markdown",
   "id": "026e05de",
   "metadata": {},
   "source": [
    "# import numpy as np\n",
    "import pandas as pd\n",
    "Box1_white_balls = 5\n",
    "Box1_black_balls = 7\n",
    "Box2_white_balls = 3\n",
    "Box2_black_balls = 12\n",
    "coin_prob = 1/2"
   ]
  },
  {
   "cell_type": "code",
   "execution_count": 13,
   "id": "2dd29c3d",
   "metadata": {},
   "outputs": [
    {
     "data": {
      "text/plain": [
       "0.2"
      ]
     },
     "execution_count": 13,
     "metadata": {},
     "output_type": "execute_result"
    }
   ],
   "source": [
    "B2WP = (Box2_white_balls)/(Box2_white_balls + Box2_black_balls)\n",
    "B2WP"
   ]
  },
  {
   "cell_type": "code",
   "execution_count": 14,
   "id": "a6054952",
   "metadata": {},
   "outputs": [
    {
     "data": {
      "text/plain": [
       "0.4166666666666667"
      ]
     },
     "execution_count": 14,
     "metadata": {},
     "output_type": "execute_result"
    }
   ],
   "source": [
    "B1WP = (Box1_white_balls)/(Box1_white_balls + Box1_black_balls)\n",
    "B1WP"
   ]
  },
  {
   "cell_type": "markdown",
   "id": "604fbbd9",
   "metadata": {},
   "source": [
    "#  Probability of the white  ball was taken from box2"
   ]
  },
  {
   "cell_type": "code",
   "execution_count": 19,
   "id": "ad007292",
   "metadata": {},
   "outputs": [
    {
     "data": {
      "text/plain": [
       "0.32432432432432434"
      ]
     },
     "execution_count": 19,
     "metadata": {},
     "output_type": "execute_result"
    }
   ],
   "source": [
    "box2_prob =  (B2WP*coin_prob)/((B2WP*coin_prob)+(B1WP*coin_prob))\n",
    "box2_prob"
   ]
  },
  {
   "cell_type": "markdown",
   "id": "c770d9ee",
   "metadata": {},
   "source": [
    "# assignment question 2"
   ]
  },
  {
   "cell_type": "code",
   "execution_count": 30,
   "id": "115f4ab2",
   "metadata": {},
   "outputs": [
    {
     "data": {
      "text/plain": [
       "0.08333333333333333"
      ]
     },
     "execution_count": 30,
     "metadata": {},
     "output_type": "execute_result"
    }
   ],
   "source": [
    "cancer_women_patient = 0.01\n",
    "chance_positive_case = 0.9\n",
    "false_case = 0.1\n",
    "probability_positive = (chance_positive_case * cancer_women_patient)/((chance_positive_case * cancer_women_patient)+((false_case) *(1-cancer_women_patient)))\n",
    "probability_positive\n"
   ]
  },
  {
   "cell_type": "code",
   "execution_count": null,
   "id": "b4307c42",
   "metadata": {},
   "outputs": [],
   "source": []
  },
  {
   "cell_type": "code",
   "execution_count": null,
   "id": "54722f83",
   "metadata": {},
   "outputs": [],
   "source": []
  }
 ],
 "metadata": {
  "kernelspec": {
   "display_name": "Python 3 (ipykernel)",
   "language": "python",
   "name": "python3"
  },
  "language_info": {
   "codemirror_mode": {
    "name": "ipython",
    "version": 3
   },
   "file_extension": ".py",
   "mimetype": "text/x-python",
   "name": "python",
   "nbconvert_exporter": "python",
   "pygments_lexer": "ipython3",
   "version": "3.9.12"
  }
 },
 "nbformat": 4,
 "nbformat_minor": 5
}
